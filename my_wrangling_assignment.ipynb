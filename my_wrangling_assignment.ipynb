{
  "cells": [
    {
      "cell_type": "markdown",
      "metadata": {
        "id": "view-in-github",
        "colab_type": "text"
      },
      "source": [
        "<a href=\"https://colab.research.google.com/github/rishikadeshmukh/wrangling/blob/main/my_wrangling_assignment.ipynb\" target=\"_parent\"><img src=\"https://colab.research.google.com/assets/colab-badge.svg\" alt=\"Open In Colab\"/></a>"
      ]
    },
    {
      "cell_type": "markdown",
      "id": "13ad028b-72b7-43ed-aa78-96fd4e518040",
      "metadata": {
        "id": "13ad028b-72b7-43ed-aa78-96fd4e518040"
      },
      "source": [
        "# Assignment: Data Wrangling\n",
        "## `! git clone https://github.com/DS3001/wrangling`"
      ]
    },
    {
      "cell_type": "code",
      "source": [
        "! git clone https://github.com/DS3001/wrangling"
      ],
      "metadata": {
        "colab": {
          "base_uri": "https://localhost:8080/"
        },
        "id": "IFlPm0baF8bI",
        "outputId": "4ec5dbde-b085-4c19-c9a5-5ce25281f779"
      },
      "id": "IFlPm0baF8bI",
      "execution_count": 75,
      "outputs": [
        {
          "output_type": "stream",
          "name": "stdout",
          "text": [
            "fatal: destination path 'wrangling' already exists and is not an empty directory.\n"
          ]
        }
      ]
    },
    {
      "cell_type": "markdown",
      "id": "5735a4d4-8be8-433a-a351-70eb8002e632",
      "metadata": {
        "id": "5735a4d4-8be8-433a-a351-70eb8002e632"
      },
      "source": [
        "**Q1.** Open the \"tidy_data.pdf\" document in the repo, which is a paper called Tidy Data by Hadley Wickham.\n",
        "\n",
        "  1. Read the abstract. What is this paper about?\n",
        "  2. Read the introduction. What is the \"tidy data standard\" intended to accomplish?\n",
        "  3. Read the intro to section 2. What does this sentence mean: \"Like families, tidy datasets are all alike but every messy dataset is messy in its own way.\" What does this sentence mean: \"For a given dataset, it’s usually easy to figure out what are observations and what are variables, but it is surprisingly difficult to precisely define variables and observations in general.\"\n",
        "  4. Read Section 2.2. How does Wickham define values, variables, and observations?\n",
        "  5. How is \"Tidy Data\" defined in section 2.3?\n",
        "  6. Read the intro to Section 3 and Section 3.1. What are the 5 most common problems with messy datasets? Why are the data in Table 4 messy? What is \"melting\" a dataset?\n",
        "  7. Why, specifically, is table 11 messy but table 12 tidy and \"molten\"?\n",
        "  8. Read Section 6. What is the \"chicken-and-egg\" problem with focusing on tidy data? What does Wickham hope happens in the future with further work on the subject of data wrangling?"
      ]
    },
    {
      "cell_type": "markdown",
      "source": [
        "1. This paper is about the effectiveness of tidying messy datasets and the tools needed for it\n",
        "\n",
        "2. The tidy data standard is intended to facilitate initial exploration and analysis of the data and simplify the development of data analysis tools that work well together\n",
        "\n",
        "3. The sentence \"Like families, tidy datasets are all alike but every messy dataset is messy in its own way” means that tidy datasets provide a way to link the structure of a dataset with its meaning. The sentence \"For a given dataset, it’s usually easy to figure out what are observations and what are variables, but it is surprisingly difficult to precisely define variables and observations in general.\" means that it is easy to pinpoint the observations and variables of the data, but defining the variables and observations to make the data more specific and tidy is hard to do.\n",
        "\n",
        "4. Values can be quantitative or qualitative and are part of a collection of a dataset. Each value has a variable, which can be defined as a measure with the same characteristic. Also, every value has an observation that contains the value measured on the same unit of measure.\n",
        "\n",
        "5. Tidy data is defined as each variable forming a column, each observation forming a row, and each type of observational unit forming a table.\n",
        "\n",
        "6. The five most common problems are that column headers are values, not variable names, multiple variables are stored in one column, variables are stored in both rows and columns, multiple types of observational units are stored in the same table, and a single observational unit is stored in multiple tables. The data in Table 4 is messy because there are variables in both the rows and columns and the column headers are values, not variable names. Melting a dataset turning columns into rows.\n",
        "\n",
        "7. Table 11 is messy because the variables are stored in both rows and columns. There are variables in individual columns, all across the columns, and rows. Table 12 is tody and molten because each row represents the measurements for a single day and there are two measured variables for min and max temperatures while all other variables are fixed.\n",
        "\n",
        "8. The problem is that if tidy data is only as useful as the tools that work with it, then tidy tools will be inextricably linked to tidy data. Wickham hoped that others would build on the current framework of tidying data to develop even better data storage strategies and better tools.\n"
      ],
      "metadata": {
        "id": "Fx_PJ4SiE4TX"
      },
      "id": "Fx_PJ4SiE4TX"
    },
    {
      "cell_type": "markdown",
      "id": "da879ea7-8aac-48a3-b6c2-daea56d2e072",
      "metadata": {
        "id": "da879ea7-8aac-48a3-b6c2-daea56d2e072"
      },
      "source": [
        "**Q2.** This question provides some practice cleaning variables which have common problems.\n",
        "1. Numeric variable: For `./data/airbnb_hw.csv`, clean the `Price` variable as well as you can, and explain the choices you make. How many missing values do you end up with? (Hint: What happens to the formatting when a price goes over 999 dollars, say from 675 to 1,112?)\n",
        "2. Categorical variable: For the `./data/sharks.csv` data covered in the lecture, clean the \"Type\" variable as well as you can, and explain the choices you make.\n",
        "3. Dummy variable: For the pretrial data covered in the lecture, clean the `WhetherDefendantWasReleasedPretrial` variable as well as you can, and, in particular, replace missing values with `np.nan`.\n",
        "4. Missing values, not at random: For the pretrial data covered in the lecture, clean the `ImposedSentenceAllChargeInContactEvent` variable as well as you can, and explain the choices you make. (Hint: Look at the `SentenceTypeAllChargesAtConvictionInContactEvent` variable.)"
      ]
    },
    {
      "cell_type": "code",
      "source": [
        "import pandas as pd\n",
        "import numpy as np\n",
        "import seaborn as sns\n",
        "df = pd.read_csv('./wrangling/assignment/data/airbnb_hw.csv', low_memory=False)\n",
        "print(df.shape, '\\n')\n",
        "#print(df.loc[0:30478,('Price')])\n",
        "#df.head()\n",
        "price = df['Price']\n",
        "price = price.str.replace(',','') #replace commas with nothing since a value 1,000 and above includes a comma (the values are strings)\n",
        "price = pd.to_numeric(price,errors='coerce') #typecast price to float/numeric after removing comma so you have numeric data\n",
        "print('After coercion: \\n', price.describe(),'\\n')#describes the Price variable\n",
        "print( price.unique() , '\\n')\n",
        "print( 'Missing values: ', sum( price.isnull() ) ) # totals the missing values\n",
        "\n"
      ],
      "metadata": {
        "id": "AOQ6NaHE1voQ"
      },
      "id": "AOQ6NaHE1voQ",
      "execution_count": null,
      "outputs": []
    },
    {
      "cell_type": "code",
      "source": [
        "import pandas as pd\n",
        "import numpy as np\n",
        "import seaborn as sns\n",
        "df = pd.read_csv('./wrangling/assignment/data/sharks.csv', low_memory=False)\n",
        "#df.head()\n",
        "ty= df['Type']#names Type variable vector\n",
        "#print(ty.unique(), '\\n') provides a list of the unique values for Type\n",
        "df['Type'].value_counts()#tabulates number of times each unique value occurs\n",
        "ty = ty.replace(['Sea Disaster', 'Boat','Boating','Boatomg'],'Watercraft') # All watercraft/boating values grouped together\n",
        "ty = ty.replace(['Invalid', 'Questionable','Unconfirmed','Unverified', 'Under investigation'], np.nan)#replaces missing values with .nan\n",
        "df['Type']=ty #replacing with cleaned data\n",
        "del ty#deletes temp variable\n",
        "df['Type'].value_counts()#displayes cleaned data\n",
        "\n",
        "\n"
      ],
      "metadata": {
        "id": "Wf4ygf_qtUC6"
      },
      "id": "Wf4ygf_qtUC6",
      "execution_count": null,
      "outputs": []
    },
    {
      "cell_type": "code",
      "source": [
        "import pandas as pd\n",
        "import numpy as np\n",
        "import seaborn as sns\n",
        "df = pd.read_parquet('./wrangling/assignment/data/justice_data.parquet')\n",
        "rel = df['WhetherDefendantWasReleasedPretrial']# assigns variable to WhetherDefendantWasReleasedPretrial variable\n",
        "rel = rel.replace(9,np.nan) #looks like 9 is missing values that are unclear\n",
        "print( 'Missing values: ', sum(rel.isnull() ) ) # totals the missing values\n",
        "df['WhetherDefendantWasReleasedPretrial'] = rel # Replace data column with cleaned values\n",
        "del rel\n",
        "df['WhetherDefendantWasReleasedPretrial'].value_counts() #displayes cleaned data"
      ],
      "metadata": {
        "id": "18JUSZim9S_X"
      },
      "id": "18JUSZim9S_X",
      "execution_count": null,
      "outputs": []
    },
    {
      "cell_type": "code",
      "source": [
        "import pandas as pd\n",
        "import numpy as np\n",
        "import seaborn as sns\n",
        "df = pd.read_parquet('./wrangling/assignment/data/justice_data.parquet')\n",
        "duration = df['ImposedSentenceAllChargeInContactEvent']# duration of imposed sentence (renaming variable)\n",
        "ty = df['SentenceTypeAllChargesAtConvictionInContactEvent']#sentence type (renaming variable)\n",
        "\n",
        "#print(duration.unique(), '\\n')\n",
        "duration= pd.to_numeric(duration,errors='coerce') #typcast values to numeric\n",
        "duration_NA = duration.isnull() #creates duration missing dummy\n",
        "#print('Missing values: ', np.sum(duration_NA),'\\n')#shows number of missing values\n",
        "\n",
        "#print( pd.crosstab(duration_NA, ty), '\\n')\n",
        "\n",
        "duration= duration.mask( ty == 4, 0) # replace duration with 0 when ty ==4 since charges were dropped\n",
        "duration = duration.mask( ty == 9, np.nan) # replace length with np.nan when ty == 9 since it is unclear what type that is\n",
        "\n",
        "duration_NA = duration.isnull() #creates new duration missing dummy\n",
        "print( pd.crosstab(duration_NA, ty), '\\n')\n",
        "print('Missing values: ', np.sum(duration_NA),'\\n')#shows number of missing values now\n",
        "\n",
        "df['ImposedSentenceAllChargeInContactEvent'] = duration # Replace data with cleaned version\n",
        "del duration, ty # Delete temporary length/type variables\n"
      ],
      "metadata": {
        "colab": {
          "base_uri": "https://localhost:8080/"
        },
        "id": "JWvDk5jmDjun",
        "outputId": "2575bf0e-8837-4e9e-b592-1b28cf5ded1d"
      },
      "id": "JWvDk5jmDjun",
      "execution_count": 93,
      "outputs": [
        {
          "output_type": "stream",
          "name": "stdout",
          "text": [
            "SentenceTypeAllChargesAtConvictionInContactEvent     0     1    2     4    9\n",
            "ImposedSentenceAllChargeInContactEvent                                      \n",
            "False                                             8720  4299  914  8779    0\n",
            "True                                                 0     0    0     0  274 \n",
            "\n",
            "Missing values:  274 \n",
            "\n"
          ]
        }
      ]
    },
    {
      "cell_type": "markdown",
      "id": "649494cd-cfd6-4f80-992a-9994fc19e1d5",
      "metadata": {
        "id": "649494cd-cfd6-4f80-992a-9994fc19e1d5"
      },
      "source": [
        "**Q3.** Many important datasets contain a race variable, typically limited to a handful of values often including Black, White, Asian, Latino, and Indigenous. This question looks at data gathering efforts on this variable by the U.S. Federal government.\n",
        "\n",
        "1. How did the most recent US Census gather data on race?\n",
        "2. Why do we gather these data? What role do these kinds of data play in politics and society? Why does data quality matter?\n",
        "3. Please provide a constructive criticism of how the Census was conducted: What was done well? What do you think was missing? How should future large scale surveys be adjusted to best reflect the diversity of the population? Could some of the Census' good practices be adopted more widely to gather richer and more useful data?\n",
        "4. How did the Census gather data on sex and gender? Please provide a similar constructive criticism of their practices.\n",
        "5. When it comes to cleaning data, what concerns do you have about protected characteristics like sex, gender, sexual identity, or race? What challenges can you imagine arising when there are missing values? What good or bad practices might people adopt, and why?\n",
        "6. Suppose someone invented an algorithm to impute values for protected characteristics like race, gender, sex, or sexuality. What kinds of concerns would you have?"
      ]
    }
  ],
  "metadata": {
    "colab": {
      "provenance": [],
      "include_colab_link": true
    },
    "kernelspec": {
      "display_name": "Python 3 (ipykernel)",
      "language": "python",
      "name": "python3"
    },
    "language_info": {
      "codemirror_mode": {
        "name": "ipython",
        "version": 3
      },
      "file_extension": ".py",
      "mimetype": "text/x-python",
      "name": "python",
      "nbconvert_exporter": "python",
      "pygments_lexer": "ipython3",
      "version": "3.10.4"
    }
  },
  "nbformat": 4,
  "nbformat_minor": 5
}